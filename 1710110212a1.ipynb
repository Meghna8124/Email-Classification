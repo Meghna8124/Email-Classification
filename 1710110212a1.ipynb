{
 "cells": [
  {
   "cell_type": "code",
   "execution_count": 1,
   "metadata": {},
   "outputs": [],
   "source": [
    "import os\n",
    "from nltk.tokenize import word_tokenize\n",
    "import nltk\n",
    "from nltk.corpus import stopwords\n",
    "from nltk.stem import WordNetLemmatizer\n",
    "from sklearn.feature_extraction.text import CountVectorizer\n",
    "import numpy as np\n",
    "from sklearn.naive_bayes import MultinomialNB\n",
    "from sklearn.metrics import accuracy_score\n",
    "from collections import Counter"
   ]
  },
  {
   "cell_type": "code",
   "execution_count": 2,
   "metadata": {},
   "outputs": [],
   "source": [
    "def get_words_labels(directory):\n",
    "    words = []\n",
    "    labels = []\n",
    "    for filename in os.listdir(os.getcwd() + '/lingspamPublic/bare/' + directory):\n",
    "        with open (os.getcwd() + '/lingspamPublic/bare/' + directory + '/' + filename) as fin:\n",
    "            email_words = word_tokenize(fin.read())\n",
    "            if filename.startswith('spm'):\n",
    "                label = 1\n",
    "            else:\n",
    "                label = 0\n",
    "            labels.append(label)\n",
    "            words = words + email_words\n",
    "            \n",
    "    \n",
    "    return words, labels"
   ]
  },
  {
   "cell_type": "code",
   "execution_count": 3,
   "metadata": {},
   "outputs": [],
   "source": [
    "def get_dictionaries(word_list):\n",
    "    word_list = sorted(list(set(word_list)))\n",
    "    word_list = [item for item in word_list if item.isalpha()]\n",
    "    num_list = list(range(len(word_list)))\n",
    "    word_list.remove('Subject')\n",
    "    \n",
    "    dict1 = dict(zip(word_list, num_list))\n",
    "    \n",
    "    stop_words = set(stopwords.words('english'))\n",
    "    word_list_sw = [w for w in word_list if not w in stop_words]\n",
    "    num_list = list(range(len(word_list_sw)))\n",
    "    \n",
    "    dict2 = dict(zip(word_list_sw, num_list))\n",
    "    \n",
    "    lemmatizer = WordNetLemmatizer()\n",
    "    word_list_lem = [lemmatizer.lemmatize(w) for w in word_list_sw]\n",
    "    word_list_lem = sorted(list(set(word_list_lem)))\n",
    "    num_list = list(range(len(word_list_lem)))\n",
    "    \n",
    "    dict3 = dict(zip(word_list_lem, num_list))\n",
    "    \n",
    "    dict_freq = Counter(word_list)\n",
    "    for key in list(dict_freq):\n",
    "        if dict_freq[key] <6000 and dict_freq[key]>20:\n",
    "            del dict_freq[key]\n",
    "    pruned_list = list(dict_freq.keys())\n",
    "    word_list_pruned = [w for w in word_list_lem if w not in pruned_list]\n",
    "    num_list = list(range(len(word_list_pruned)))\n",
    "    dict4 = dict(zip(word_list_pruned, num_list))\n",
    "    \n",
    "    return dict1, dict2, dict3, word_list_lem"
   ]
  },
  {
   "cell_type": "code",
   "execution_count": 4,
   "metadata": {},
   "outputs": [],
   "source": [
    "def get_array(dir_list, dictionary):\n",
    "    \n",
    "    clf = CountVectorizer(input = 'filename', vocabulary = dictionary)\n",
    "   \n",
    "    file_list = []\n",
    "    for directory in dir_list:\n",
    "        #for filename in os.listdir(os.getcwd() + '/lingspamPublic/bare/' + directory):\n",
    "        path = os.getcwd() + '/lingspamPublic/bare/' + directory + '/'\n",
    "        file_list = file_list + [os.path.join(path, x) for x in os.listdir(path)]\n",
    "        #print(len(os.listdir(path)))\n",
    "\n",
    "    X = clf.fit_transform(file_list)\n",
    "    clf.get_feature_names()\n",
    "\n",
    "    return X.toarray()"
   ]
  },
  {
   "cell_type": "code",
   "execution_count": 5,
   "metadata": {},
   "outputs": [],
   "source": [
    "list_dir = os.listdir(os.getcwd() + '/lingspamPublic/bare')\n",
    "list_dir.remove('part10')\n",
    "list_dir.append('part10')\n",
    "\n",
    "words = []\n",
    "labels = []\n",
    "for d in list_dir:\n",
    "    w_list, lbl = get_words_labels(d)\n",
    "    \n",
    "    words.append(w_list)\n",
    "    labels.append(lbl)"
   ]
  },
  {
   "cell_type": "code",
   "execution_count": 6,
   "metadata": {},
   "outputs": [],
   "source": [
    "acc = np.zeros((10, 1))\n",
    "for j in range(10):\n",
    "    list1 = []\n",
    "    y_train = []\n",
    "    for i in range(10):\n",
    "        if not i==j:\n",
    "            list1 = list1 + words[i]\n",
    "            y_train = y_train + labels[i]\n",
    "    dict1, dict2, dict3, dict_list_lem = get_dictionaries(list1)\n",
    "    temp_list = list_dir.copy()\n",
    "    temp_list.remove('part' + str(j+1))\n",
    "    \n",
    "    dict_freq = Counter(list1)\n",
    "    for key in list(dict_freq):\n",
    "            if dict_freq[key] <6000 and dict_freq[key]>20:\n",
    "                del dict_freq[key]\n",
    "    pruned_list = list(dict_freq.keys())\n",
    "    word_list_pruned = [w for w in dict_list_lem if w not in pruned_list]\n",
    "    num_list = list(range(len(word_list_pruned)))\n",
    "    dict4 = dict(zip(word_list_pruned, num_list))\n",
    "    \n",
    "    X = get_array(temp_list, dict4)\n",
    "    y_train = np.array(y_train)\n",
    "    model = MultinomialNB()\n",
    "    model.fit(X, y_train)    \n",
    "    X_test = get_array(['part' + str(j+1)], dict4)\n",
    "    y_test = labels[j]\n",
    "    y_test = np.array(y_test)\n",
    "    p = model.predict(X_test)\n",
    "    acc[j][0] = accuracy_score(y_test, p)"
   ]
  },
  {
   "cell_type": "code",
   "execution_count": 7,
   "metadata": {},
   "outputs": [
    {
     "name": "stdout",
     "output_type": "stream",
     "text": [
      "[[0.97923875]\n",
      " [0.98269896]\n",
      " [0.98269896]\n",
      " [0.98615917]\n",
      " [0.99310345]\n",
      " [1.        ]\n",
      " [0.98269896]\n",
      " [0.97577855]\n",
      " [0.97577855]\n",
      " [0.98969072]]\n",
      "0.9847846073039532\n"
     ]
    }
   ],
   "source": [
    "print(acc)\n",
    "print(np.average(acc))"
   ]
  },
  {
   "cell_type": "code",
   "execution_count": null,
   "metadata": {},
   "outputs": [],
   "source": []
  }
 ],
 "metadata": {
  "kernelspec": {
   "display_name": "Python 3",
   "language": "python",
   "name": "python3"
  },
  "language_info": {
   "codemirror_mode": {
    "name": "ipython",
    "version": 3
   },
   "file_extension": ".py",
   "mimetype": "text/x-python",
   "name": "python",
   "nbconvert_exporter": "python",
   "pygments_lexer": "ipython3",
   "version": "3.7.1"
  }
 },
 "nbformat": 4,
 "nbformat_minor": 2
}
